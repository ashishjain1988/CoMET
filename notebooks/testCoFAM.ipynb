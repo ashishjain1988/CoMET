{
 "cells": [
  {
   "cell_type": "code",
   "execution_count": 1,
   "metadata": {},
   "outputs": [
    {
     "name": "stderr",
     "output_type": "stream",
     "text": [
      "Using TensorFlow backend.\n"
     ]
    }
   ],
   "source": [
    "%matplotlib inline\n",
    "import argparse\n",
    "import h5py\n",
    "import os\n",
    "import sys\n",
    "import numpy as np\n",
    "import pandas as pd\n",
    "\n",
    "from keras.models import model_from_json\n",
    "from keras.utils.np_utils import to_categorical\n",
    "from keras.losses import categorical_crossentropy\n",
    "from keras.metrics import categorical_accuracy\n",
    "import keras.backend as K\n",
    "\n",
    "sys.path.insert(0, os.path.abspath('../../Evolutron'))\n",
    "from evolutron.tools import load_dataset, Handle, shape, aa2hot\n",
    "from evolutron.extra_layers import custom_layers"
   ]
  },
  {
   "cell_type": "code",
   "execution_count": 2,
   "metadata": {
    "collapsed": true
   },
   "outputs": [],
   "source": [
    "# First load model architecture\n",
    "filename = '../models/uniprot_cas9/[100]_[25]_81_1_2_CoHST.model'"
   ]
  },
  {
   "cell_type": "code",
   "execution_count": 3,
   "metadata": {
    "collapsed": true
   },
   "outputs": [],
   "source": [
    "from evolutron.engine import load_model"
   ]
  },
  {
   "cell_type": "code",
   "execution_count": 4,
   "metadata": {},
   "outputs": [
    {
     "ename": "InternalError",
     "evalue": "Failed to create session.",
     "output_type": "error",
     "traceback": [
      "\u001b[0;31m---------------------------------------------------------------------------\u001b[0m",
      "\u001b[0;31mInternalError\u001b[0m                             Traceback (most recent call last)",
      "\u001b[0;32m<ipython-input-4-2fc8b7335723>\u001b[0m in \u001b[0;36m<module>\u001b[0;34m()\u001b[0m\n\u001b[0;32m----> 1\u001b[0;31m \u001b[0mnet\u001b[0m \u001b[0;34m=\u001b[0m \u001b[0mload_model\u001b[0m\u001b[0;34m(\u001b[0m\u001b[0mfilename\u001b[0m\u001b[0;34m)\u001b[0m\u001b[0;34m\u001b[0m\u001b[0m\n\u001b[0m\u001b[1;32m      2\u001b[0m \u001b[0;34m\u001b[0m\u001b[0m\n\u001b[1;32m      3\u001b[0m net.compile(loss = categorical_crossentropy, \n\u001b[1;32m      4\u001b[0m                     \u001b[0moptimizer\u001b[0m\u001b[0;34m=\u001b[0m\u001b[0;34m'nadam'\u001b[0m\u001b[0;34m,\u001b[0m\u001b[0;34m\u001b[0m\u001b[0m\n\u001b[1;32m      5\u001b[0m                     \u001b[0mlr\u001b[0m\u001b[0;34m=\u001b[0m\u001b[0;36m0.002\u001b[0m\u001b[0;34m,\u001b[0m\u001b[0;34m\u001b[0m\u001b[0m\n",
      "\u001b[0;32m/home/thras/Desktop/Evolutron/evolutron/engine/krs.py\u001b[0m in \u001b[0;36mload_model\u001b[0;34m(filepath, custom_objects, compile)\u001b[0m\n\u001b[1;32m    106\u001b[0m                                      printable_module_name='layer')\n\u001b[1;32m    107\u001b[0m     \u001b[0;31m# set weights\u001b[0m\u001b[0;34m\u001b[0m\u001b[0;34m\u001b[0m\u001b[0m\n\u001b[0;32m--> 108\u001b[0;31m     \u001b[0mtopology\u001b[0m\u001b[0;34m.\u001b[0m\u001b[0mload_weights_from_hdf5_group\u001b[0m\u001b[0;34m(\u001b[0m\u001b[0mf\u001b[0m\u001b[0;34m[\u001b[0m\u001b[0;34m'model_weights'\u001b[0m\u001b[0;34m]\u001b[0m\u001b[0;34m,\u001b[0m \u001b[0mmodel\u001b[0m\u001b[0;34m.\u001b[0m\u001b[0mlayers\u001b[0m\u001b[0;34m)\u001b[0m\u001b[0;34m\u001b[0m\u001b[0m\n\u001b[0m\u001b[1;32m    109\u001b[0m \u001b[0;34m\u001b[0m\u001b[0m\n\u001b[1;32m    110\u001b[0m     \u001b[0;31m# Early return if compilation is not required.\u001b[0m\u001b[0;34m\u001b[0m\u001b[0;34m\u001b[0m\u001b[0m\n",
      "\u001b[0;32m/home/thras/Envs/py3Evolutron/lib/python3.5/site-packages/keras/engine/topology.py\u001b[0m in \u001b[0;36mload_weights_from_hdf5_group\u001b[0;34m(f, layers)\u001b[0m\n\u001b[1;32m   2968\u001b[0m                              ' elements.')\n\u001b[1;32m   2969\u001b[0m         \u001b[0mweight_value_tuples\u001b[0m \u001b[0;34m+=\u001b[0m \u001b[0mzip\u001b[0m\u001b[0;34m(\u001b[0m\u001b[0msymbolic_weights\u001b[0m\u001b[0;34m,\u001b[0m \u001b[0mweight_values\u001b[0m\u001b[0;34m)\u001b[0m\u001b[0;34m\u001b[0m\u001b[0m\n\u001b[0;32m-> 2970\u001b[0;31m     \u001b[0mK\u001b[0m\u001b[0;34m.\u001b[0m\u001b[0mbatch_set_value\u001b[0m\u001b[0;34m(\u001b[0m\u001b[0mweight_value_tuples\u001b[0m\u001b[0;34m)\u001b[0m\u001b[0;34m\u001b[0m\u001b[0m\n\u001b[0m\u001b[1;32m   2971\u001b[0m \u001b[0;34m\u001b[0m\u001b[0m\n\u001b[1;32m   2972\u001b[0m \u001b[0;34m\u001b[0m\u001b[0m\n",
      "\u001b[0;32m/home/thras/Envs/py3Evolutron/lib/python3.5/site-packages/keras/backend/tensorflow_backend.py\u001b[0m in \u001b[0;36mbatch_set_value\u001b[0;34m(tuples)\u001b[0m\n\u001b[1;32m   2151\u001b[0m             \u001b[0massign_ops\u001b[0m\u001b[0;34m.\u001b[0m\u001b[0mappend\u001b[0m\u001b[0;34m(\u001b[0m\u001b[0massign_op\u001b[0m\u001b[0;34m)\u001b[0m\u001b[0;34m\u001b[0m\u001b[0m\n\u001b[1;32m   2152\u001b[0m             \u001b[0mfeed_dict\u001b[0m\u001b[0;34m[\u001b[0m\u001b[0massign_placeholder\u001b[0m\u001b[0;34m]\u001b[0m \u001b[0;34m=\u001b[0m \u001b[0mvalue\u001b[0m\u001b[0;34m\u001b[0m\u001b[0m\n\u001b[0;32m-> 2153\u001b[0;31m         \u001b[0mget_session\u001b[0m\u001b[0;34m(\u001b[0m\u001b[0;34m)\u001b[0m\u001b[0;34m.\u001b[0m\u001b[0mrun\u001b[0m\u001b[0;34m(\u001b[0m\u001b[0massign_ops\u001b[0m\u001b[0;34m,\u001b[0m \u001b[0mfeed_dict\u001b[0m\u001b[0;34m=\u001b[0m\u001b[0mfeed_dict\u001b[0m\u001b[0;34m)\u001b[0m\u001b[0;34m\u001b[0m\u001b[0m\n\u001b[0m\u001b[1;32m   2154\u001b[0m \u001b[0;34m\u001b[0m\u001b[0m\n\u001b[1;32m   2155\u001b[0m \u001b[0;34m\u001b[0m\u001b[0m\n",
      "\u001b[0;32m/home/thras/Envs/py3Evolutron/lib/python3.5/site-packages/keras/backend/tensorflow_backend.py\u001b[0m in \u001b[0;36mget_session\u001b[0;34m()\u001b[0m\n\u001b[1;32m    158\u001b[0m                 config = tf.ConfigProto(intra_op_parallelism_threads=num_thread,\n\u001b[1;32m    159\u001b[0m                                         allow_soft_placement=True)\n\u001b[0;32m--> 160\u001b[0;31m             \u001b[0m_SESSION\u001b[0m \u001b[0;34m=\u001b[0m \u001b[0mtf\u001b[0m\u001b[0;34m.\u001b[0m\u001b[0mSession\u001b[0m\u001b[0;34m(\u001b[0m\u001b[0mconfig\u001b[0m\u001b[0;34m=\u001b[0m\u001b[0mconfig\u001b[0m\u001b[0;34m)\u001b[0m\u001b[0;34m\u001b[0m\u001b[0m\n\u001b[0m\u001b[1;32m    161\u001b[0m         \u001b[0msession\u001b[0m \u001b[0;34m=\u001b[0m \u001b[0m_SESSION\u001b[0m\u001b[0;34m\u001b[0m\u001b[0m\n\u001b[1;32m    162\u001b[0m     \u001b[0;32mif\u001b[0m \u001b[0;32mnot\u001b[0m \u001b[0m_MANUAL_VAR_INIT\u001b[0m\u001b[0;34m:\u001b[0m\u001b[0;34m\u001b[0m\u001b[0m\n",
      "\u001b[0;32m/home/thras/Envs/py3Evolutron/lib/python3.5/site-packages/tensorflow/python/client/session.py\u001b[0m in \u001b[0;36m__init__\u001b[0;34m(self, target, graph, config)\u001b[0m\n\u001b[1;32m   1191\u001b[0m \u001b[0;34m\u001b[0m\u001b[0m\n\u001b[1;32m   1192\u001b[0m     \"\"\"\n\u001b[0;32m-> 1193\u001b[0;31m     \u001b[0msuper\u001b[0m\u001b[0;34m(\u001b[0m\u001b[0mSession\u001b[0m\u001b[0;34m,\u001b[0m \u001b[0mself\u001b[0m\u001b[0;34m)\u001b[0m\u001b[0;34m.\u001b[0m\u001b[0m__init__\u001b[0m\u001b[0;34m(\u001b[0m\u001b[0mtarget\u001b[0m\u001b[0;34m,\u001b[0m \u001b[0mgraph\u001b[0m\u001b[0;34m,\u001b[0m \u001b[0mconfig\u001b[0m\u001b[0;34m=\u001b[0m\u001b[0mconfig\u001b[0m\u001b[0;34m)\u001b[0m\u001b[0;34m\u001b[0m\u001b[0m\n\u001b[0m\u001b[1;32m   1194\u001b[0m     \u001b[0;31m# NOTE(mrry): Create these on first `__enter__` to avoid a reference cycle.\u001b[0m\u001b[0;34m\u001b[0m\u001b[0;34m\u001b[0m\u001b[0m\n\u001b[1;32m   1195\u001b[0m     \u001b[0mself\u001b[0m\u001b[0;34m.\u001b[0m\u001b[0m_default_graph_context_manager\u001b[0m \u001b[0;34m=\u001b[0m \u001b[0;32mNone\u001b[0m\u001b[0;34m\u001b[0m\u001b[0m\n",
      "\u001b[0;32m/home/thras/Envs/py3Evolutron/lib/python3.5/site-packages/tensorflow/python/client/session.py\u001b[0m in \u001b[0;36m__init__\u001b[0;34m(self, target, graph, config)\u001b[0m\n\u001b[1;32m    552\u001b[0m     \u001b[0;32mtry\u001b[0m\u001b[0;34m:\u001b[0m\u001b[0;34m\u001b[0m\u001b[0m\n\u001b[1;32m    553\u001b[0m       \u001b[0;32mwith\u001b[0m \u001b[0merrors\u001b[0m\u001b[0;34m.\u001b[0m\u001b[0mraise_exception_on_not_ok_status\u001b[0m\u001b[0;34m(\u001b[0m\u001b[0;34m)\u001b[0m \u001b[0;32mas\u001b[0m \u001b[0mstatus\u001b[0m\u001b[0;34m:\u001b[0m\u001b[0;34m\u001b[0m\u001b[0m\n\u001b[0;32m--> 554\u001b[0;31m         \u001b[0mself\u001b[0m\u001b[0;34m.\u001b[0m\u001b[0m_session\u001b[0m \u001b[0;34m=\u001b[0m \u001b[0mtf_session\u001b[0m\u001b[0;34m.\u001b[0m\u001b[0mTF_NewDeprecatedSession\u001b[0m\u001b[0;34m(\u001b[0m\u001b[0mopts\u001b[0m\u001b[0;34m,\u001b[0m \u001b[0mstatus\u001b[0m\u001b[0;34m)\u001b[0m\u001b[0;34m\u001b[0m\u001b[0m\n\u001b[0m\u001b[1;32m    555\u001b[0m     \u001b[0;32mfinally\u001b[0m\u001b[0;34m:\u001b[0m\u001b[0;34m\u001b[0m\u001b[0m\n\u001b[1;32m    556\u001b[0m       \u001b[0mtf_session\u001b[0m\u001b[0;34m.\u001b[0m\u001b[0mTF_DeleteSessionOptions\u001b[0m\u001b[0;34m(\u001b[0m\u001b[0mopts\u001b[0m\u001b[0;34m)\u001b[0m\u001b[0;34m\u001b[0m\u001b[0m\n",
      "\u001b[0;32m/usr/lib/python3.5/contextlib.py\u001b[0m in \u001b[0;36m__exit__\u001b[0;34m(self, type, value, traceback)\u001b[0m\n\u001b[1;32m     64\u001b[0m         \u001b[0;32mif\u001b[0m \u001b[0mtype\u001b[0m \u001b[0;32mis\u001b[0m \u001b[0;32mNone\u001b[0m\u001b[0;34m:\u001b[0m\u001b[0;34m\u001b[0m\u001b[0m\n\u001b[1;32m     65\u001b[0m             \u001b[0;32mtry\u001b[0m\u001b[0;34m:\u001b[0m\u001b[0;34m\u001b[0m\u001b[0m\n\u001b[0;32m---> 66\u001b[0;31m                 \u001b[0mnext\u001b[0m\u001b[0;34m(\u001b[0m\u001b[0mself\u001b[0m\u001b[0;34m.\u001b[0m\u001b[0mgen\u001b[0m\u001b[0;34m)\u001b[0m\u001b[0;34m\u001b[0m\u001b[0m\n\u001b[0m\u001b[1;32m     67\u001b[0m             \u001b[0;32mexcept\u001b[0m \u001b[0mStopIteration\u001b[0m\u001b[0;34m:\u001b[0m\u001b[0;34m\u001b[0m\u001b[0m\n\u001b[1;32m     68\u001b[0m                 \u001b[0;32mreturn\u001b[0m\u001b[0;34m\u001b[0m\u001b[0m\n",
      "\u001b[0;32m/home/thras/Envs/py3Evolutron/lib/python3.5/site-packages/tensorflow/python/framework/errors_impl.py\u001b[0m in \u001b[0;36mraise_exception_on_not_ok_status\u001b[0;34m()\u001b[0m\n\u001b[1;32m    464\u001b[0m           \u001b[0;32mNone\u001b[0m\u001b[0;34m,\u001b[0m \u001b[0;32mNone\u001b[0m\u001b[0;34m,\u001b[0m\u001b[0;34m\u001b[0m\u001b[0m\n\u001b[1;32m    465\u001b[0m           \u001b[0mcompat\u001b[0m\u001b[0;34m.\u001b[0m\u001b[0mas_text\u001b[0m\u001b[0;34m(\u001b[0m\u001b[0mpywrap_tensorflow\u001b[0m\u001b[0;34m.\u001b[0m\u001b[0mTF_Message\u001b[0m\u001b[0;34m(\u001b[0m\u001b[0mstatus\u001b[0m\u001b[0;34m)\u001b[0m\u001b[0;34m)\u001b[0m\u001b[0;34m,\u001b[0m\u001b[0;34m\u001b[0m\u001b[0m\n\u001b[0;32m--> 466\u001b[0;31m           pywrap_tensorflow.TF_GetCode(status))\n\u001b[0m\u001b[1;32m    467\u001b[0m   \u001b[0;32mfinally\u001b[0m\u001b[0;34m:\u001b[0m\u001b[0;34m\u001b[0m\u001b[0m\n\u001b[1;32m    468\u001b[0m     \u001b[0mpywrap_tensorflow\u001b[0m\u001b[0;34m.\u001b[0m\u001b[0mTF_DeleteStatus\u001b[0m\u001b[0;34m(\u001b[0m\u001b[0mstatus\u001b[0m\u001b[0;34m)\u001b[0m\u001b[0;34m\u001b[0m\u001b[0m\n",
      "\u001b[0;31mInternalError\u001b[0m: Failed to create session."
     ]
    }
   ],
   "source": [
    "net = load_model(filename)\n",
    "\n"
   ]
  },
  {
   "cell_type": "code",
   "execution_count": null,
   "metadata": {
    "collapsed": true
   },
   "outputs": [],
   "source": []
  },
  {
   "cell_type": "code",
   "execution_count": 5,
   "metadata": {
    "collapsed": true
   },
   "outputs": [],
   "source": [
    "proteins = pd.read_csv('/data/uniprot_families_g100.csv')"
   ]
  },
  {
   "cell_type": "code",
   "execution_count": null,
   "metadata": {
    "collapsed": true
   },
   "outputs": [],
   "source": [
    "def pad_or_clip_seq(x, n):\n",
    "    if n >= x.shape[0]:\n",
    "        return np.concatenate((x[:n, :], np.zeros((n - x.shape[0], x.shape[1]))))\n",
    "    else:\n",
    "        return x[:n, :]"
   ]
  },
  {
   "cell_type": "code",
   "execution_count": null,
   "metadata": {
    "scrolled": true
   },
   "outputs": [
    {
     "name": "stdout",
     "output_type": "stream",
     "text": [
      " 99936/100000 [============================>.] - ETA: 0s0.87829\n",
      " 99968/100000 [============================>.] - ETA: 0s0.8795\n",
      " 99936/100000 [============================>.] - ETA: 0s0.87994\n",
      " 99968/100000 [============================>.] - ETA: 0s0.879975\n",
      " 99936/100000 [============================>.] - ETA: 0s0.879922\n",
      " 99936/100000 [============================>.] - ETA: 0s0.879566666667\n",
      " 99968/100000 [============================>.] - ETA: 0s0.879737142857\n",
      " 99936/100000 [============================>.] - ETA: 0s0.87983625\n",
      " 99936/100000 [============================>.] - ETA: 0s0.879801111111\n",
      " 99936/100000 [============================>.] - ETA: 0s0.854837\n",
      " 99936/100000 [============================>.] - ETA: 0s0.802912727273\n",
      "100000/100000 [==============================] - 60s    \n",
      "0.759635\n",
      "100000/100000 [==============================] - 60s    \n",
      "0.723205384615\n",
      " 99968/100000 [============================>.] - ETA: 0s0.691795\n",
      " 99968/100000 [============================>.] - ETA: 0s0.664722666667\n",
      "100000/100000 [==============================] - 60s    \n",
      "0.640826875\n",
      " 99936/100000 [============================>.] - ETA: 0s0.646630588235\n",
      " 99968/100000 [============================>.] - ETA: 0s0.659699444444\n",
      " 99936/100000 [============================>.] - ETA: 0s0.659703684211\n",
      " 99968/100000 [============================>.] - ETA: 0s0.6364975\n",
      " 99968/100000 [============================>.] - ETA: 0s0.636427142857\n",
      " 99936/100000 [============================>.] - ETA: 0s0.652502272727\n",
      " 99968/100000 [============================>.] - ETA: 0s0.644197826087\n",
      " 99968/100000 [============================>.] - ETA: 0s0.630268333333\n",
      " 99968/100000 [============================>.] - ETA: 0s0.6145948\n",
      " 99968/100000 [============================>.] - ETA: 0s0.600466923077\n",
      " 99968/100000 [============================>.] - ETA: 0s0.591271851852\n",
      " 99968/100000 [============================>.] - ETA: 0s0.593941071429\n",
      " 99936/100000 [============================>.] - ETA: 0s0.603714482759\n",
      " 99936/100000 [============================>.] - ETA: 0s0.597645333333\n",
      " 99968/100000 [============================>.] - ETA: 0s0.583865806452\n",
      " 99968/100000 [============================>.] - ETA: 0s0.5737615625\n",
      " 99968/100000 [============================>.] - ETA: 0s0.572047878788\n",
      " 99968/100000 [============================>.] - ETA: 0s0.582897647059\n",
      " 99968/100000 [============================>.] - ETA: 0s0.578129714286\n",
      " 99968/100000 [============================>.] - ETA: 0s0.569113888889\n",
      " 99968/100000 [============================>.] - ETA: 0s0.572104324324\n",
      " 99968/100000 [============================>.] - ETA: 0s0.564326315789\n",
      " 99936/100000 [============================>.] - ETA: 0s0.572277692308\n",
      " 99968/100000 [============================>.] - ETA: 0s0.569895\n",
      " 99936/100000 [============================>.] - ETA: 0s0.572088292683\n",
      " 99968/100000 [============================>.] - ETA: 0s0.571941428571\n",
      " 99936/100000 [============================>.] - ETA: 0s0.570659534884\n",
      " 99968/100000 [============================>.] - ETA: 0s0.566875227273\n",
      " 99968/100000 [============================>.] - ETA: 0s0.574306\n",
      " 99968/100000 [============================>.] - ETA: 0s0.578086086957\n",
      " 99936/100000 [============================>.] - ETA: 0s0.584255319149\n",
      "100000/100000 [==============================] - 60s    \n",
      "0.589204375\n",
      " 99968/100000 [============================>.] - ETA: 0s0.592174693878\n",
      " 99968/100000 [============================>.] - ETA: 0s0.596393\n",
      " 99968/100000 [============================>.] - ETA: 0s0.598505882353\n",
      " 99968/100000 [============================>.] - ETA: 0s0.594578846154\n",
      " 99936/100000 [============================>.] - ETA: 0s0.596608679245\n",
      " 99968/100000 [============================>.] - ETA: 0s0.599319259259\n",
      " 99968/100000 [============================>.] - ETA: 0s0.604579636364\n",
      " 99936/100000 [============================>.] - ETA: 0s0.605547142857\n",
      "100000/100000 [==============================] - 60s    \n",
      "0.606513508772\n",
      " 99936/100000 [============================>.] - ETA: 0s0.609676551724\n",
      " 99968/100000 [============================>.] - ETA: 0s0.610696271186\n",
      " 99968/100000 [============================>.] - ETA: 0s0.612529333333\n",
      " 99968/100000 [============================>.] - ETA: 0s0.61765557377\n",
      " 99968/100000 [============================>.] - ETA: 0s0.61754983871\n",
      " 99968/100000 [============================>.] - ETA: 0s0.621\n",
      " 99968/100000 [============================>.] - ETA: 0s0.621148125\n",
      " 99968/100000 [============================>.] - ETA: 0s0.620523076923\n",
      " 99968/100000 [============================>.] - ETA: 0s0.618991060606\n",
      " 99936/100000 [============================>.] - ETA: 0s0.62078238806\n",
      " 99968/100000 [============================>.] - ETA: 0s0.618536764706\n",
      " 99968/100000 [============================>.] - ETA: 0s0.614816376812\n",
      " 99968/100000 [============================>.] - ETA: 0s0.614774142857\n",
      " 99936/100000 [============================>.] - ETA: 0s0.61347\n",
      " 99968/100000 [============================>.] - ETA: 0s0.613503194444\n",
      "100000/100000 [==============================] - 59s    \n",
      "0.615832328767\n",
      " 99968/100000 [============================>.] - ETA: 0s0.615650540541\n",
      " 99968/100000 [============================>.] - ETA: 0s0.6157004\n",
      " 99968/100000 [============================>.] - ETA: 0s0.616291973684\n",
      " 99936/100000 [============================>.] - ETA: 0s0.618730779221\n",
      " 99968/100000 [============================>.] - ETA: 0s0.619563205128\n",
      " 99968/100000 [============================>.] - ETA: 0s0.619569746835\n",
      " 99968/100000 [============================>.] - ETA: 0s0.622803875\n",
      " 99968/100000 [============================>.] - ETA: 0s0.623612098765\n",
      " 99936/100000 [============================>.] - ETA: 0s0.623826829268\n",
      " 99936/100000 [============================>.] - ETA: 0s0.624226506024\n",
      " 99968/100000 [============================>.] - ETA: 0s0.62500797619\n",
      " 99936/100000 [============================>.] - ETA: 0s0.627534117647\n",
      " 99968/100000 [============================>.] - ETA: 0s0.627734534884\n",
      " 99936/100000 [============================>.] - ETA: 0s0.627326666667\n",
      " 99936/100000 [============================>.] - ETA: 0s0.62704\n",
      " 99968/100000 [============================>.] - ETA: 0s0.627908764045\n",
      " 99968/100000 [============================>.] - ETA: 0s0.629386555556\n",
      " 99968/100000 [============================>.] - ETA: 0s0.628218351648\n",
      " 99968/100000 [============================>.] - ETA: 0s0.627868369565\n",
      " 99968/100000 [============================>.] - ETA: 0s0.629534731183\n",
      " 99968/100000 [============================>.] - ETA: 0s0.631271276596\n",
      " 99936/100000 [============================>.] - ETA: 0s0.631515263158\n",
      " 99936/100000 [============================>.] - ETA: 0s0.6324934375\n",
      " 99968/100000 [============================>.] - ETA: 0s0.633762371134\n",
      " 99968/100000 [============================>.] - ETA: 0s0.63567255102\n",
      " 99968/100000 [============================>.] - ETA: 0s0.636469090909\n",
      " 99936/100000 [============================>.] - ETA: 0s0.6367298\n",
      " 99968/100000 [============================>.] - ETA: 0s0.637160792079\n",
      " 99936/100000 [============================>.] - ETA: 0s0.638550784314\n",
      " 99968/100000 [============================>.] - ETA: 0s0.63777961165\n",
      " 99936/100000 [============================>.] - ETA: 0s0.639170384615\n",
      " 99936/100000 [============================>.] - ETA: 0s0.641190761905\n",
      " 99936/100000 [============================>.] - ETA: 0s0.64112490566\n",
      " 99968/100000 [============================>.] - ETA: 0s0.643138411215\n",
      " 99968/100000 [============================>.] - ETA: 0s0.644466111111\n",
      " 99936/100000 [============================>.] - ETA: 0s0.646441376147\n",
      " 99936/100000 [============================>.] - ETA: 0s0.647355090909\n",
      " 99968/100000 [============================>.] - ETA: 0s0.64706981982\n",
      " 99936/100000 [============================>.] - ETA: 0s0.647740535714\n",
      " 99936/100000 [============================>.] - ETA: 0s0.649587610619\n",
      " 99936/100000 [============================>.] - ETA: 0s0.649985877193\n",
      " 99936/100000 [============================>.] - ETA: 0s0.651014956522\n",
      " 99968/100000 [============================>.] - ETA: 0s0.65238887931\n",
      " 99936/100000 [============================>.] - ETA: 0s0.653281880342\n",
      " 99936/100000 [============================>.] - ETA: 0s0.654815762712\n",
      " 99968/100000 [============================>.] - ETA: 0s0.655789411765\n",
      " 99968/100000 [============================>.] - ETA: 0s0.65703825\n"
     ]
    }
   ],
   "source": [
    "tot = len(proteins)\n",
    "batch_size = 100000\n",
    "res=0\n",
    "count=0\n",
    "for i in range(0, tot, batch_size):\n",
    "    x_data = np.asarray(proteins.iloc[i:i+batch_size]['sequence'].apply(lambda x: pad_or_clip_seq(aa2hot(x), 1410)).tolist(),dtype=K.floatx())\n",
    "    y_data = to_categorical(proteins.iloc[i:i+batch_size]['codes'].tolist(), num_classes=2468)\n",
    "    \n",
    "    res += net.evaluate(x_data, y_data)[1]\n",
    "    count += 1\n",
    "    print(res/count)\n"
   ]
  }
 ],
 "metadata": {
  "kernelspec": {
   "display_name": "Python 3",
   "language": "python",
   "name": "python3"
  },
  "language_info": {
   "codemirror_mode": {
    "name": "ipython",
    "version": 3
   },
   "file_extension": ".py",
   "mimetype": "text/x-python",
   "name": "python",
   "nbconvert_exporter": "python",
   "pygments_lexer": "ipython3",
   "version": "3.5.2"
  }
 },
 "nbformat": 4,
 "nbformat_minor": 2
}
