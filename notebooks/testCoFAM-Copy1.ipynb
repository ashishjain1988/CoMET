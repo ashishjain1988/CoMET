{
 "cells": [
  {
   "cell_type": "code",
   "execution_count": 4,
   "metadata": {},
   "outputs": [
    {
     "name": "stderr",
     "output_type": "stream",
     "text": [
      "Using TensorFlow backend.\n"
     ]
    }
   ],
   "source": [
    "%matplotlib inline\n",
    "import argparse\n",
    "import h5py\n",
    "import os\n",
    "import sys\n",
    "import numpy as np\n",
    "import pandas as pd\n",
    "\n",
    "from keras.models import model_from_json\n",
    "from keras.utils.np_utils import to_categorical\n",
    "from keras.losses import categorical_crossentropy\n",
    "from keras.metrics import categorical_accuracy\n",
    "import keras.backend as K\n",
    "\n",
    "sys.path.insert(0, os.path.abspath('../../Evolutron'))\n",
    "from evolutron.tools import load_dataset, Handle, shape, aa2hot\n",
    "from evolutron.extra_layers import custom_layers"
   ]
  },
  {
   "cell_type": "code",
   "execution_count": 14,
   "metadata": {
    "collapsed": true
   },
   "outputs": [],
   "source": [
    "# First load model architecture\n",
    "filename = '../models/uniprot_cas9/[100]_[25]_81_1_2_CoHST.model'"
   ]
  },
  {
   "cell_type": "code",
   "execution_count": 15,
   "metadata": {},
   "outputs": [],
   "source": [
    "from evolutron.engine import load_model"
   ]
  },
  {
   "cell_type": "code",
   "execution_count": 16,
   "metadata": {},
   "outputs": [],
   "source": [
    "net = load_model(filename)"
   ]
  },
  {
   "cell_type": "code",
   "execution_count": 17,
   "metadata": {
    "collapsed": true
   },
   "outputs": [],
   "source": [
    "net.compile(loss = categorical_crossentropy, \n",
    "           optimizer='nadam',\n",
    "           lr=0.002)"
   ]
  },
  {
   "cell_type": "code",
   "execution_count": 23,
   "metadata": {},
   "outputs": [
    {
     "name": "stdout",
     "output_type": "stream",
     "text": [
      "Dataset size: 7\n"
     ]
    }
   ],
   "source": [
    "x_data, _ = load_dataset(data_id='file', padded=True, infile='/data/datasets/uniprot-cpf1.fasta', min_aa=1541, max_aa=1541)"
   ]
  },
  {
   "cell_type": "code",
   "execution_count": 24,
   "metadata": {},
   "outputs": [
    {
     "data": {
      "text/plain": [
       "array([[  9.99975681e-01,   2.43391351e-05],\n",
       "       [  9.99999523e-01,   5.20596416e-07],\n",
       "       [  9.99996066e-01,   3.89134448e-06],\n",
       "       [  9.99996662e-01,   3.35315326e-06],\n",
       "       [  9.99999881e-01,   1.58432357e-07],\n",
       "       [  9.99820769e-01,   1.79264724e-04],\n",
       "       [  9.99286473e-01,   7.13544374e-04]], dtype=float32)"
      ]
     },
     "execution_count": 24,
     "metadata": {},
     "output_type": "execute_result"
    }
   ],
   "source": [
    "net.predict(x_data)"
   ]
  },
  {
   "cell_type": "code",
   "execution_count": null,
   "metadata": {
    "collapsed": true
   },
   "outputs": [],
   "source": []
  }
 ],
 "metadata": {
  "kernelspec": {
   "display_name": "Python 3",
   "language": "python",
   "name": "python3"
  },
  "language_info": {
   "codemirror_mode": {
    "name": "ipython",
    "version": 3
   },
   "file_extension": ".py",
   "mimetype": "text/x-python",
   "name": "python",
   "nbconvert_exporter": "python",
   "pygments_lexer": "ipython3",
   "version": "3.5.2"
  }
 },
 "nbformat": 4,
 "nbformat_minor": 2
}
