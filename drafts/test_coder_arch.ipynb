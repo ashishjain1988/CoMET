{
 "cells": [
  {
   "cell_type": "code",
   "execution_count": 1,
   "metadata": {
    "collapsed": false,
    "deletable": true,
    "editable": true
   },
   "outputs": [
    {
     "name": "stderr",
     "output_type": "stream",
     "text": [
      "Using Theano backend.\n"
     ]
    }
   ],
   "source": [
    "import keras.backend as K\n",
    "from keras.layers import Convolution1D, MaxPooling1D, Dense, Flatten, Reshape\n",
    "from keras.layers import Input\n",
    "from keras.metrics import categorical_accuracy\n",
    "from keras.models import Model, load_model\n",
    "from keras.objectives import mean_squared_error, categorical_crossentropy\n",
    "\n",
    "import os\n",
    "import sys\n",
    "\n",
    "sys.path.insert(0, os.path.abspath('../../Evolutron/'))\n",
    "\n",
    "from evolutron.networks import Dedense, Upsampling1D, Deconvolution1D"
   ]
  },
  {
   "cell_type": "code",
   "execution_count": 2,
   "metadata": {
    "collapsed": true,
    "deletable": true,
    "editable": true
   },
   "outputs": [],
   "source": [
    "input_shape = (100, 20)\n",
    "seq_length, alphabet = input_shape\n",
    "\n",
    "# Input LayerRO\n",
    "inp = Input(shape=input_shape, name='aa_seq')"
   ]
  },
  {
   "cell_type": "code",
   "execution_count": 3,
   "metadata": {
    "collapsed": false,
    "deletable": true,
    "editable": true
   },
   "outputs": [],
   "source": [
    "n_filters = 30\n",
    "filter_length = 10\n",
    "n_conv_layers = 3\n",
    "# Convolutional Layers\n",
    "convs = [Convolution1D(filters=n_filters,\n",
    "                       kernel_size=filter_length,\n",
    "                       kernel_initializer='glorot_uniform',\n",
    "                       activation='relu',\n",
    "                       padding='same',\n",
    "                       name='Conv1')(inp)]\n",
    "\n",
    "for c in range(1, n_conv_layers):\n",
    "    convs.append(Convolution1D(filters=n_filters,\n",
    "                               kernel_size=filter_length,\n",
    "                               kernel_initializer='glorot_uniform',\n",
    "                               activation='relu',\n",
    "                               padding='same',\n",
    "                               name='Conv{}'.format(c + 1))(convs[-1]))  # maybe add L1 regularizer"
   ]
  },
  {
   "cell_type": "code",
   "execution_count": 4,
   "metadata": {
    "collapsed": false
   },
   "outputs": [
    {
     "data": {
      "text/plain": [
       "(None, 100, 30)"
      ]
     },
     "execution_count": 4,
     "metadata": {},
     "output_type": "execute_result"
    }
   ],
   "source": [
    "convs[-1]._keras_shape"
   ]
  },
  {
   "cell_type": "code",
   "execution_count": 5,
   "metadata": {
    "collapsed": false,
    "deletable": true,
    "editable": true
   },
   "outputs": [],
   "source": [
    "# Max-pooling\n",
    "max_pool = MaxPooling1D(pool_size=seq_length)(convs[-1])\n",
    "flat = Flatten()(max_pool)"
   ]
  },
  {
   "cell_type": "code",
   "execution_count": 6,
   "metadata": {
    "collapsed": false
   },
   "outputs": [
    {
     "name": "stdout",
     "output_type": "stream",
     "text": [
      "(None, 1, 30)\n",
      "(None, 30)\n"
     ]
    }
   ],
   "source": [
    "print(max_pool._keras_shape)\n",
    "print(flat._keras_shape)"
   ]
  },
  {
   "cell_type": "code",
   "execution_count": 7,
   "metadata": {
    "collapsed": false,
    "deletable": true,
    "editable": true
   },
   "outputs": [],
   "source": [
    "# Fully-Connected encoding layers\n",
    "n_fc_layers=2\n",
    "fc_enc = [Dense(n_filters,\n",
    "                kernel_initializer='glorot_uniform',\n",
    "                activation='sigmoid',\n",
    "                name='FCEnc1')(flat)]\n",
    "\n",
    "for d in range(1, n_fc_layers):\n",
    "    fc_enc.append(Dense(n_filters,\n",
    "                        kernel_initializer='glorot_uniform',\n",
    "                        activation='sigmoid',\n",
    "                        name='FCEnc{}'.format(d + 1))(fc_enc[-1]))\n",
    "\n",
    "encoded = fc_enc[-1]  # To access if model for encoding needed"
   ]
  },
  {
   "cell_type": "code",
   "execution_count": 8,
   "metadata": {
    "collapsed": false
   },
   "outputs": [
    {
     "data": {
      "text/plain": [
       "(None, 30)"
      ]
     },
     "execution_count": 8,
     "metadata": {},
     "output_type": "execute_result"
    }
   ],
   "source": [
    "encoded._keras_shape"
   ]
  },
  {
   "cell_type": "code",
   "execution_count": 9,
   "metadata": {
    "collapsed": true
   },
   "outputs": [],
   "source": [
    "fc_dec = [Dedense(encoded._keras_history[0],\n",
    "                  activation='linear',\n",
    "                  name='FCDec{}'.format(n_fc_layers))(encoded)]\n",
    "\n",
    "for d in range(n_fc_layers - 2, -1, -1):\n",
    "    fc_dec.append(Dedense(fc_enc[d]._keras_history[0],\n",
    "                          activation='linear',\n",
    "                          name='FCDec{}'.format(d + 1))(fc_dec[-1]))"
   ]
  },
  {
   "cell_type": "code",
   "execution_count": 10,
   "metadata": {
    "collapsed": false
   },
   "outputs": [
    {
     "data": {
      "text/plain": [
       "(None, 30)"
      ]
     },
     "execution_count": 10,
     "metadata": {},
     "output_type": "execute_result"
    }
   ],
   "source": [
    "fc_dec[-1]._keras_shape"
   ]
  },
  {
   "cell_type": "code",
   "execution_count": 11,
   "metadata": {
    "collapsed": false,
    "deletable": true,
    "editable": true
   },
   "outputs": [],
   "source": [
    "# Reshaping and unpooling\n",
    "unflat = Reshape(max_pool._keras_shape[1:])(fc_dec[-1])\n",
    "deconvs = [Upsampling1D(max_pool._keras_history[0].input_shape[1], name='Unpooling')(unflat)]"
   ]
  },
  {
   "cell_type": "code",
   "execution_count": 12,
   "metadata": {
    "collapsed": false
   },
   "outputs": [
    {
     "name": "stdout",
     "output_type": "stream",
     "text": [
      "(None, 100, 30)\n"
     ]
    }
   ],
   "source": [
    "print(deconvs[-1]._keras_shape)"
   ]
  },
  {
   "cell_type": "code",
   "execution_count": 13,
   "metadata": {
    "collapsed": false,
    "deletable": true,
    "editable": true
   },
   "outputs": [],
   "source": [
    "# Deconvolution\n",
    "for c in range(n_conv_layers - 1, 0, -1):\n",
    "    deconvs.append(Deconvolution1D(convs[c]._keras_history[0],\n",
    "                                   activation='relu',\n",
    "                                   name='Deconv{}'.format(c + 1))(deconvs[-1]))  # maybe add L1 regularizer\n",
    "\n",
    "decoded = Deconvolution1D(convs[0]._keras_history[0],\n",
    "                          apply_mask=False,\n",
    "                          activation='sigmoid',\n",
    "                          name='Deconv1')(deconvs[-1])"
   ]
  },
  {
   "cell_type": "code",
   "execution_count": 16,
   "metadata": {
    "collapsed": false
   },
   "outputs": [
    {
     "name": "stdout",
     "output_type": "stream",
     "text": [
      "(None, 100, 20)\n"
     ]
    }
   ],
   "source": [
    "print(decoded._keras_shape)"
   ]
  },
  {
   "cell_type": "code",
   "execution_count": 20,
   "metadata": {
    "collapsed": false,
    "deletable": true,
    "editable": true
   },
   "outputs": [],
   "source": [
    "coder = Model(inp, decoded)"
   ]
  }
 ],
 "metadata": {
  "kernelspec": {
   "display_name": "Python 3",
   "language": "python",
   "name": "python3"
  },
  "language_info": {
   "codemirror_mode": {
    "name": "ipython",
    "version": 3
   },
   "file_extension": ".py",
   "mimetype": "text/x-python",
   "name": "python",
   "nbconvert_exporter": "python",
   "pygments_lexer": "ipython3",
   "version": "3.6.0"
  }
 },
 "nbformat": 4,
 "nbformat_minor": 0
}
