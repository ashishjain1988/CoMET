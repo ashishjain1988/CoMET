{
 "cells": [
  {
   "cell_type": "code",
   "execution_count": 1,
   "metadata": {
    "collapsed": true
   },
   "outputs": [],
   "source": [
    "# Special matplotlib import for the Jupyter notebook\n",
    "%matplotlib inline\n",
    "from IPython.display import IFrame"
   ]
  },
  {
   "cell_type": "code",
   "execution_count": 2,
   "metadata": {
    "collapsed": false
   },
   "outputs": [
    {
     "name": "stderr",
     "output_type": "stream",
     "text": [
      "Using Theano backend.\n"
     ]
    }
   ],
   "source": [
    "import os\n",
    "import sys\n",
    "sys.path.insert(0, os.path.abspath('..'))\n",
    "\n",
    "import pandas as pd\n",
    "import glob\n",
    "import h5py\n",
    "\n",
    "import numpy as np\n",
    "import matplotlib\n",
    "import matplotlib.pyplot as plt\n",
    "import seaborn as sns\n",
    "\n",
    "from keras.models import model_from_json\n",
    "from evolutron.networks import custom_layers\n",
    "from evolutron.engine import DeepTrainer"
   ]
  },
  {
   "cell_type": "code",
   "execution_count": 3,
   "metadata": {
    "collapsed": true
   },
   "outputs": [],
   "source": [
    "def set_style():\n",
    "    # This sets reasonable defaults for font size for\n",
    "    # a figure that will go in a paper\n",
    "    sns.set_context(\"paper\")\n",
    "    \n",
    "    # Set the font to be serif, rather than sans\n",
    "    sns.set(font='serif')\n",
    "    \n",
    "    # Make the background white, and specify the\n",
    "    # specific font family\n",
    "    sns.set_style(\"white\", {\n",
    "        \"font.family\": \"serif\",\n",
    "        \"font.serif\": [\"Times\", \"Palatino\", \"serif\"]\n",
    "    })\n",
    "def set_size(fig):\n",
    "    fig.set_size_inches(6, 3)\n",
    "    plt.tight_layout()"
   ]
  },
  {
   "cell_type": "code",
   "execution_count": 4,
   "metadata": {
    "collapsed": true
   },
   "outputs": [],
   "source": [
    "def plot_loss_acc(train_loss, train_acc, valid_loss, valid_acc):\n",
    "    fig, ax = plt.subplots(1, 2)\n",
    "    \n",
    "    ax[0].plot(train_loss, label='Training Set')\n",
    "    ax[0].plot(valid_loss, label='Test Set')\n",
    "    \n",
    "    ax[1].plot(train_acc, label='Training Set')\n",
    "    ax[1].plot(valid_acc, label='Test Set')\n",
    "    \n",
    "    ax[0].set_xlabel(\"Epoch\")\n",
    "    ax[0].set_ylabel(\"Negative Log Loss\")\n",
    "    \n",
    "    ax[1].set_xlabel(\"Epoch\")\n",
    "    ax[1].set_ylabel(\"Categorical Accuracy\")\n",
    "    \n",
    "    ax[0].spines['right'].set_visible(False)\n",
    "    ax[1].spines['right'].set_visible(False)\n",
    "    ax[0].spines['top'].set_visible(False)\n",
    "    ax[1].spines['top'].set_visible(False)\n",
    "    \n",
    "    ax[0].legend(loc='upper right')\n",
    "    ax[1].legend(loc='lower right')\n",
    "    return fig, ax"
   ]
  },
  {
   "cell_type": "code",
   "execution_count": 25,
   "metadata": {
    "collapsed": false
   },
   "outputs": [],
   "source": [
    "dataset='crispr'\n",
    "models = glob.glob('models/'+dataset+'/*.model')\n",
    "histories = glob.glob('models/'+dataset+'/*.history.npz')"
   ]
  },
  {
   "cell_type": "code",
   "execution_count": null,
   "metadata": {
    "collapsed": true
   },
   "outputs": [],
   "source": [
    "for m in models:\n",
    "    print(m)\n",
    "    hf = h5py.File(m)\n",
    "    net = DeepTrainer(model_from_json(hf.attrs['model_config'].decode('utf8'), custom_objects=custom_layers))\n",
    "    net.display_network_info()\n",
    "    hf.close()"
   ]
  },
  {
   "cell_type": "code",
   "execution_count": 30,
   "metadata": {
    "collapsed": false
   },
   "outputs": [
    {
     "name": "stdout",
     "output_type": "stream",
     "text": [
      "models/crispr/100_10_10_3_1_DeepCoFAM.history.npz\n",
      "0.71433447099\n",
      "models/crispr/100_10_37_3_1_DeepCoFAM.history.npz\n",
      "0.711774744027\n",
      "models/crispr/200_30_100_1_1_realDeepCoDER.history.npz\n",
      "0.885251759379\n",
      "models/crispr/200_30_104_1_None_DeepCoFAM.history.npz\n",
      "0.723378843008\n",
      "models/crispr/200_30_117_1_1_DeepCoFAM.history.npz\n",
      "0.713139931741\n",
      "models/crispr/50_10_160_1_2_DeepCoFAM.history.npz\n",
      "0.698976109215\n"
     ]
    }
   ],
   "source": [
    "for h in histories:\n",
    "    with np.load(h) as f:\n",
    "        print(h)\n",
    "        try:\n",
    "            print(f['train_acc'][-1])\n",
    "        except :\n",
    "            print(f['mean_cat_acc'][-1])"
   ]
  },
  {
   "cell_type": "code",
   "execution_count": 31,
   "metadata": {
    "collapsed": false
   },
   "outputs": [
    {
     "name": "stdout",
     "output_type": "stream",
     "text": [
      "['mean_cat_acc', 'val_mean_cat_acc', 'val_loss', 'lr', 'loss']\n"
     ]
    }
   ],
   "source": [
    "h = 'models/crispr/200_30_104_1_None_DeepCoFAM.history.npz'\n",
    "with np.load(h) as f:\n",
    "    print(f.files)\n",
    "    train_loss = f['loss']\n",
    "#     train_loss = f['train_loss']\n",
    "    train_acc = f['mean_cat_acc']\n",
    "#     train_acc = f['train_acc']\n",
    "    valid_loss = f['val_loss']\n",
    "    valid_acc = f['val_mean_cat_acc']\n",
    "#     valid_acc = f['val_acc_mem']"
   ]
  },
  {
   "cell_type": "code",
   "execution_count": 32,
   "metadata": {
    "collapsed": false
   },
   "outputs": [
    {
     "data": {
      "image/png": "[encoded data removed]",
      "text/plain": [
       "<matplotlib.figure.Figure at 0x10d1b2b38>"
      ]
     },
     "metadata": {},
     "output_type": "display_data"
    }
   ],
   "source": [
    "set_style()\n",
    "fig, axes = plot_loss_acc(train_loss, train_acc, valid_loss, valid_acc)\n",
    "set_size(fig)\n",
    "plt.savefig('show/figures/{}_val_loss_acc_cofam.pdf'.format(dataset), dpi=300)"
   ]
  },
  {
   "cell_type": "code",
   "execution_count": null,
   "metadata": {
    "collapsed": true
   },
   "outputs": [],
   "source": [
    ""
   ]
  }
 ],
 "metadata": {
  "kernelspec": {
   "display_name": "Python 3",
   "language": "python",
   "name": "python3"
  },
  "language_info": {
   "codemirror_mode": {
    "name": "ipython",
    "version": 3.0
   },
   "file_extension": ".py",
   "mimetype": "text/x-python",
   "name": "python",
   "nbconvert_exporter": "python",
   "pygments_lexer": "ipython3",
   "version": "3.5.2"
  }
 },
 "nbformat": 4,
 "nbformat_minor": 0
}