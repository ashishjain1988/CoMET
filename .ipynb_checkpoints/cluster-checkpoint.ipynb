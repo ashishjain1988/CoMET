{
 "cells": [
  {
   "cell_type": "code",
   "execution_count": 1,
   "metadata": {
    "collapsed": true
   },
   "outputs": [],
   "source": [
    "# coding=utf-8\n",
    "\n",
    "import argparse\n",
    "import os\n",
    "import sys\n",
    "\n",
    "import numpy as np\n",
    "import pandas as pd\n",
    "import h5py\n",
    "\n",
    "import keras.backend as K\n",
    "from keras.models import model_from_json\n",
    "\n",
    "from sklearn.manifold import TSNE\n",
    "from sklearn.decomposition import PCA\n",
    "from sklearn.cluster import KMeans\n",
    "\n",
    "try:\n",
    "    from evolutron.engine import DeepTrainer\n",
    "    from evolutron.networks import custom_layers\n",
    "    from evolutron.tools import aa2hot, Handle, load_dataset, shape, file_db\n",
    "    from evolutron.tools.data_tools import pad_or_clip_seq\n",
    "except ImportError:\n",
    "\n",
    "    sys.path.insert(0, os.path.abspath('..'))\n",
    "    from evolutron.engine import DeepTrainer\n",
    "    from evolutron.networks import custom_layers\n",
    "    from evolutron.tools import aa2hot, Handle, load_dataset, shape, file_db\n",
    "    from evolutron.tools.data_tools import pad_or_clip_seq"
   ]
  },
  {
   "cell_type": "code",
   "execution_count": null,
   "metadata": {
    "collapsed": true
   },
   "outputs": [],
   "source": [
    "model = 'crispr/10_30_101_1_1_DeepCoDER.model'\n",
    "handle = Handle.from_filename(model)\n",
    "with np.load('embeddings/' + handle.dataset + '/' + handle.filename.split('.')[0] + '.embed.npz') as f:\n",
    "    emb = f['arr_0']\n",
    "print('Loaded embeddings')"
   ]
  }
 ],
 "metadata": {
  "kernelspec": {
   "display_name": "Python 3",
   "language": "python",
   "name": "python3"
  },
  "language_info": {
   "codemirror_mode": {
    "name": "ipython",
    "version": 3
   },
   "file_extension": ".py",
   "mimetype": "text/x-python",
   "name": "python",
   "nbconvert_exporter": "python",
   "pygments_lexer": "ipython3",
   "version": "3.5.2"
  }
 },
 "nbformat": 4,
 "nbformat_minor": 0
}
